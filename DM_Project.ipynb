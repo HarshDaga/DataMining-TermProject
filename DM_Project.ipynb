{
  "nbformat": 4,
  "nbformat_minor": 0,
  "metadata": {
    "colab": {
      "name": "DM Project.ipynb",
      "provenance": [],
      "collapsed_sections": [],
      "toc_visible": true
    },
    "kernelspec": {
      "name": "python3",
      "display_name": "Python 3"
    }
  },
  "cells": [
    {
      "cell_type": "markdown",
      "metadata": {
        "id": "1E_0d5nznEMk"
      },
      "source": [
        "# Data Mining Term Project\r\n",
        "\r\n",
        "Author: **Harsh Kishan Daga**\r\n",
        "<br>\r\n",
        "UTA ID: **100 177 1009**\r\n",
        "\r\n",
        "---\r\n",
        "\r\n",
        "<br>\r\n",
        "\r\n",
        "**Purpose:**\r\n",
        "<br>\r\n",
        "The purpose of this notebook is to classify (predict) the rating of a review for any games.<br>\r\n",
        "I start with cleaning and preprocessing the input data which is plain text.<br>\r\n",
        "The input data has fractional ratings while we only predict ratings in the integer range $[0,10]$.<br>\r\n",
        "This is done by rounding off the original ratings to bring them into $[0,10]$ integer range.<br>\r\n",
        "Since the dataset is massive (2.9 million reviews), the models created here are trained on a random sample of 10,000 reviews.<br>\r\n",
        "I start off by using a SVM since it trains faster than most of the alternatives like NBC but after analysing the predictions from a single SVM, there's a significant flaw in the predictions (explained further in the notebook).<br>\r\n",
        "I attempt to resolve that using another SVM that it trained using \"balanced\" train data(explain further) and then using a Decision Tree on the outputs of both SVMs to decide the final prediction.\r\n",
        "\r\n",
        "\r\n",
        "\r\n"
      ]
    },
    {
      "cell_type": "markdown",
      "metadata": {
        "id": "m6P75pTyu8gK"
      },
      "source": [
        "<br>"
      ]
    },
    {
      "cell_type": "markdown",
      "metadata": {
        "id": "bEr76WLBu2Nd"
      },
      "source": [
        "Imports and setting up the notebook environment for plotting."
      ]
    },
    {
      "cell_type": "code",
      "metadata": {
        "id": "0Q9hz8yqS6_M"
      },
      "source": [
        "%matplotlib inline"
      ],
      "execution_count": null,
      "outputs": []
    },
    {
      "cell_type": "code",
      "metadata": {
        "id": "fGuK4Pv0U-hX"
      },
      "source": [
        "import matplotlib.pyplot as plt\r\n",
        "import numpy as np\r\n",
        "import pandas as pd\r\n",
        "import string\r\n",
        "import nltk\r\n",
        "import random\r\n",
        "import matplotlib.mlab as mlab\r\n",
        "import seaborn as sns\r\n",
        "import math\r\n",
        "from nltk.corpus import stopwords\r\n",
        "from sklearn import svm\r\n",
        "from sklearn.feature_extraction.text import TfidfVectorizer\r\n",
        "from sklearn.svm import LinearSVC\r\n",
        "from sklearn.pipeline import Pipeline\r\n",
        "from sklearn.metrics import confusion_matrix, accuracy_score\r\n",
        "from sklearn.model_selection import train_test_split\r\n",
        "from sklearn.tree import DecisionTreeClassifier\r\n",
        "from google.colab import drive, files"
      ],
      "execution_count": null,
      "outputs": []
    },
    {
      "cell_type": "code",
      "metadata": {
        "id": "Nx3E5ljiLGB5"
      },
      "source": [
        "sns.set(color_codes=True)"
      ],
      "execution_count": null,
      "outputs": []
    },
    {
      "cell_type": "markdown",
      "metadata": {
        "id": "chVIAYDMv_OK"
      },
      "source": [
        "The data to train on is in a csv file on my Google Drive.<br>\r\n",
        "I can fetch the files this way."
      ]
    },
    {
      "cell_type": "code",
      "metadata": {
        "colab": {
          "base_uri": "https://localhost:8080/"
        },
        "id": "GXiKR2xXVBDn",
        "outputId": "6153a2cf-7d13-4eb2-d1fc-6729472abb75"
      },
      "source": [
        "drive.mount('/content/drive')"
      ],
      "execution_count": null,
      "outputs": [
        {
          "output_type": "stream",
          "text": [
            "Drive already mounted at /content/drive; to attempt to forcibly remount, call drive.mount(\"/content/drive\", force_remount=True).\n"
          ],
          "name": "stdout"
        }
      ]
    },
    {
      "cell_type": "markdown",
      "metadata": {
        "id": "B-6iy2WawTrI"
      },
      "source": [
        "*Stopwords* are words that are filtered before processing the text since they don't contribute to the sentiment of the text."
      ]
    },
    {
      "cell_type": "code",
      "metadata": {
        "colab": {
          "base_uri": "https://localhost:8080/"
        },
        "id": "4IzJ9SWxaqrz",
        "outputId": "08d1138f-27d2-44d3-b1a2-046edec3e411"
      },
      "source": [
        "nltk.download('stopwords')"
      ],
      "execution_count": null,
      "outputs": [
        {
          "output_type": "stream",
          "text": [
            "[nltk_data] Downloading package stopwords to /root/nltk_data...\n",
            "[nltk_data]   Package stopwords is already up-to-date!\n"
          ],
          "name": "stdout"
        },
        {
          "output_type": "execute_result",
          "data": {
            "text/plain": [
              "True"
            ]
          },
          "metadata": {
            "tags": []
          },
          "execution_count": 5
        }
      ]
    },
    {
      "cell_type": "markdown",
      "metadata": {
        "id": "ITnk0CzcHyhN"
      },
      "source": [
        "# Reading Data"
      ]
    },
    {
      "cell_type": "markdown",
      "metadata": {
        "id": "B_WUIiw2yJXE"
      },
      "source": [
        "After reading the csv file, I drop the `user` and `name` columns to save some memory."
      ]
    },
    {
      "cell_type": "code",
      "metadata": {
        "colab": {
          "base_uri": "https://localhost:8080/",
          "height": 453
        },
        "id": "bLKeRPBDVaNS",
        "outputId": "db61854f-d6e9-4c02-ffca-0655865b0c63"
      },
      "source": [
        "data = pd.read_csv('/content/drive/My Drive/Colab Notebooks/bgg-15m-reviews.csv', index_col=0)\r\n",
        "data = data.drop(['user', 'name'], axis=1)\r\n",
        "data"
      ],
      "execution_count": null,
      "outputs": [
        {
          "output_type": "stream",
          "text": [
            "/usr/local/lib/python3.6/dist-packages/numpy/lib/arraysetops.py:569: FutureWarning: elementwise comparison failed; returning scalar instead, but in the future will perform elementwise comparison\n",
            "  mask |= (ar1 == a)\n"
          ],
          "name": "stderr"
        },
        {
          "output_type": "execute_result",
          "data": {
            "text/html": [
              "<div>\n",
              "<style scoped>\n",
              "    .dataframe tbody tr th:only-of-type {\n",
              "        vertical-align: middle;\n",
              "    }\n",
              "\n",
              "    .dataframe tbody tr th {\n",
              "        vertical-align: top;\n",
              "    }\n",
              "\n",
              "    .dataframe thead th {\n",
              "        text-align: right;\n",
              "    }\n",
              "</style>\n",
              "<table border=\"1\" class=\"dataframe\">\n",
              "  <thead>\n",
              "    <tr style=\"text-align: right;\">\n",
              "      <th></th>\n",
              "      <th>rating</th>\n",
              "      <th>comment</th>\n",
              "      <th>ID</th>\n",
              "    </tr>\n",
              "  </thead>\n",
              "  <tbody>\n",
              "    <tr>\n",
              "      <th>0</th>\n",
              "      <td>10.0</td>\n",
              "      <td>NaN</td>\n",
              "      <td>30549</td>\n",
              "    </tr>\n",
              "    <tr>\n",
              "      <th>1</th>\n",
              "      <td>10.0</td>\n",
              "      <td>Hands down my favorite new game of BGG CON 200...</td>\n",
              "      <td>30549</td>\n",
              "    </tr>\n",
              "    <tr>\n",
              "      <th>2</th>\n",
              "      <td>10.0</td>\n",
              "      <td>I tend to either love or easily tire of co-op ...</td>\n",
              "      <td>30549</td>\n",
              "    </tr>\n",
              "    <tr>\n",
              "      <th>3</th>\n",
              "      <td>10.0</td>\n",
              "      <td>NaN</td>\n",
              "      <td>30549</td>\n",
              "    </tr>\n",
              "    <tr>\n",
              "      <th>4</th>\n",
              "      <td>10.0</td>\n",
              "      <td>This is an amazing co-op game.  I play mostly ...</td>\n",
              "      <td>30549</td>\n",
              "    </tr>\n",
              "    <tr>\n",
              "      <th>...</th>\n",
              "      <td>...</td>\n",
              "      <td>...</td>\n",
              "      <td>...</td>\n",
              "    </tr>\n",
              "    <tr>\n",
              "      <th>15823264</th>\n",
              "      <td>8.0</td>\n",
              "      <td>Turn based preview looks very promising. The g...</td>\n",
              "      <td>281515</td>\n",
              "    </tr>\n",
              "    <tr>\n",
              "      <th>15823265</th>\n",
              "      <td>8.0</td>\n",
              "      <td>KS</td>\n",
              "      <td>281515</td>\n",
              "    </tr>\n",
              "    <tr>\n",
              "      <th>15823266</th>\n",
              "      <td>7.0</td>\n",
              "      <td>NaN</td>\n",
              "      <td>281515</td>\n",
              "    </tr>\n",
              "    <tr>\n",
              "      <th>15823267</th>\n",
              "      <td>6.0</td>\n",
              "      <td>NaN</td>\n",
              "      <td>281515</td>\n",
              "    </tr>\n",
              "    <tr>\n",
              "      <th>15823268</th>\n",
              "      <td>1.0</td>\n",
              "      <td>NaN</td>\n",
              "      <td>281515</td>\n",
              "    </tr>\n",
              "  </tbody>\n",
              "</table>\n",
              "<p>15823269 rows × 3 columns</p>\n",
              "</div>"
            ],
            "text/plain": [
              "          rating                                            comment      ID\n",
              "0           10.0                                                NaN   30549\n",
              "1           10.0  Hands down my favorite new game of BGG CON 200...   30549\n",
              "2           10.0  I tend to either love or easily tire of co-op ...   30549\n",
              "3           10.0                                                NaN   30549\n",
              "4           10.0  This is an amazing co-op game.  I play mostly ...   30549\n",
              "...          ...                                                ...     ...\n",
              "15823264     8.0  Turn based preview looks very promising. The g...  281515\n",
              "15823265     8.0                                                 KS  281515\n",
              "15823266     7.0                                                NaN  281515\n",
              "15823267     6.0                                                NaN  281515\n",
              "15823268     1.0                                                NaN  281515\n",
              "\n",
              "[15823269 rows x 3 columns]"
            ]
          },
          "metadata": {
            "tags": []
          },
          "execution_count": 6
        }
      ]
    },
    {
      "cell_type": "markdown",
      "metadata": {
        "id": "HDYdxbhDH5lz"
      },
      "source": [
        "# Filtering Data"
      ]
    },
    {
      "cell_type": "markdown",
      "metadata": {
        "id": "Xc3v4_HZyWAF"
      },
      "source": [
        "Looking at the data above, we can see that a low of the rows are missing a `comment`.<br>\r\n",
        "These rows are removed from the dataset.<br>\r\n",
        "Additionally, I also compute the word count of each review since I'll be using this later for further filtering.<br>\r\n",
        "Finally, the fractional ratings are rounded off to integer and store in `rating_int`."
      ]
    },
    {
      "cell_type": "code",
      "metadata": {
        "colab": {
          "base_uri": "https://localhost:8080/",
          "height": 623
        },
        "id": "SWEOwtAEWLPf",
        "outputId": "eb18eb6b-d687-4cfc-edaf-7229dbf06149"
      },
      "source": [
        "data = data[data.comment.notna()]\r\n",
        "data['word_count'] = data.comment.str.split().str.len()\r\n",
        "data['rating_int'] = data.rating.astype('int')\r\n",
        "data"
      ],
      "execution_count": null,
      "outputs": [
        {
          "output_type": "stream",
          "text": [
            "/usr/local/lib/python3.6/dist-packages/ipykernel_launcher.py:2: SettingWithCopyWarning: \n",
            "A value is trying to be set on a copy of a slice from a DataFrame.\n",
            "Try using .loc[row_indexer,col_indexer] = value instead\n",
            "\n",
            "See the caveats in the documentation: https://pandas.pydata.org/pandas-docs/stable/user_guide/indexing.html#returning-a-view-versus-a-copy\n",
            "  \n",
            "/usr/local/lib/python3.6/dist-packages/ipykernel_launcher.py:3: SettingWithCopyWarning: \n",
            "A value is trying to be set on a copy of a slice from a DataFrame.\n",
            "Try using .loc[row_indexer,col_indexer] = value instead\n",
            "\n",
            "See the caveats in the documentation: https://pandas.pydata.org/pandas-docs/stable/user_guide/indexing.html#returning-a-view-versus-a-copy\n",
            "  This is separate from the ipykernel package so we can avoid doing imports until\n"
          ],
          "name": "stderr"
        },
        {
          "output_type": "execute_result",
          "data": {
            "text/html": [
              "<div>\n",
              "<style scoped>\n",
              "    .dataframe tbody tr th:only-of-type {\n",
              "        vertical-align: middle;\n",
              "    }\n",
              "\n",
              "    .dataframe tbody tr th {\n",
              "        vertical-align: top;\n",
              "    }\n",
              "\n",
              "    .dataframe thead th {\n",
              "        text-align: right;\n",
              "    }\n",
              "</style>\n",
              "<table border=\"1\" class=\"dataframe\">\n",
              "  <thead>\n",
              "    <tr style=\"text-align: right;\">\n",
              "      <th></th>\n",
              "      <th>rating</th>\n",
              "      <th>comment</th>\n",
              "      <th>ID</th>\n",
              "      <th>word_count</th>\n",
              "      <th>rating_int</th>\n",
              "    </tr>\n",
              "  </thead>\n",
              "  <tbody>\n",
              "    <tr>\n",
              "      <th>1</th>\n",
              "      <td>10.0</td>\n",
              "      <td>Hands down my favorite new game of BGG CON 200...</td>\n",
              "      <td>30549</td>\n",
              "      <td>84</td>\n",
              "      <td>10</td>\n",
              "    </tr>\n",
              "    <tr>\n",
              "      <th>2</th>\n",
              "      <td>10.0</td>\n",
              "      <td>I tend to either love or easily tire of co-op ...</td>\n",
              "      <td>30549</td>\n",
              "      <td>73</td>\n",
              "      <td>10</td>\n",
              "    </tr>\n",
              "    <tr>\n",
              "      <th>4</th>\n",
              "      <td>10.0</td>\n",
              "      <td>This is an amazing co-op game.  I play mostly ...</td>\n",
              "      <td>30549</td>\n",
              "      <td>59</td>\n",
              "      <td>10</td>\n",
              "    </tr>\n",
              "    <tr>\n",
              "      <th>5</th>\n",
              "      <td>10.0</td>\n",
              "      <td>Hey! I can finally rate this game I've been pl...</td>\n",
              "      <td>30549</td>\n",
              "      <td>215</td>\n",
              "      <td>10</td>\n",
              "    </tr>\n",
              "    <tr>\n",
              "      <th>8</th>\n",
              "      <td>10.0</td>\n",
              "      <td>Love it- great fun with my son. 2 plays so far...</td>\n",
              "      <td>30549</td>\n",
              "      <td>16</td>\n",
              "      <td>10</td>\n",
              "    </tr>\n",
              "    <tr>\n",
              "      <th>...</th>\n",
              "      <td>...</td>\n",
              "      <td>...</td>\n",
              "      <td>...</td>\n",
              "      <td>...</td>\n",
              "      <td>...</td>\n",
              "    </tr>\n",
              "    <tr>\n",
              "      <th>15823242</th>\n",
              "      <td>10.0</td>\n",
              "      <td>KS Collector's Bundle with a friend of mine</td>\n",
              "      <td>281515</td>\n",
              "      <td>8</td>\n",
              "      <td>10</td>\n",
              "    </tr>\n",
              "    <tr>\n",
              "      <th>15823247</th>\n",
              "      <td>10.0</td>\n",
              "      <td>Belekokio Gerumo...</td>\n",
              "      <td>281515</td>\n",
              "      <td>2</td>\n",
              "      <td>10</td>\n",
              "    </tr>\n",
              "    <tr>\n",
              "      <th>15823253</th>\n",
              "      <td>10.0</td>\n",
              "      <td>Excelente!! lo mejor que probé.</td>\n",
              "      <td>281515</td>\n",
              "      <td>5</td>\n",
              "      <td>10</td>\n",
              "    </tr>\n",
              "    <tr>\n",
              "      <th>15823264</th>\n",
              "      <td>8.0</td>\n",
              "      <td>Turn based preview looks very promising. The g...</td>\n",
              "      <td>281515</td>\n",
              "      <td>95</td>\n",
              "      <td>8</td>\n",
              "    </tr>\n",
              "    <tr>\n",
              "      <th>15823265</th>\n",
              "      <td>8.0</td>\n",
              "      <td>KS</td>\n",
              "      <td>281515</td>\n",
              "      <td>1</td>\n",
              "      <td>8</td>\n",
              "    </tr>\n",
              "  </tbody>\n",
              "</table>\n",
              "<p>2995023 rows × 5 columns</p>\n",
              "</div>"
            ],
            "text/plain": [
              "          rating  ... rating_int\n",
              "1           10.0  ...         10\n",
              "2           10.0  ...         10\n",
              "4           10.0  ...         10\n",
              "5           10.0  ...         10\n",
              "8           10.0  ...         10\n",
              "...          ...  ...        ...\n",
              "15823242    10.0  ...         10\n",
              "15823247    10.0  ...         10\n",
              "15823253    10.0  ...         10\n",
              "15823264     8.0  ...          8\n",
              "15823265     8.0  ...          8\n",
              "\n",
              "[2995023 rows x 5 columns]"
            ]
          },
          "metadata": {
            "tags": []
          },
          "execution_count": 7
        }
      ]
    },
    {
      "cell_type": "markdown",
      "metadata": {
        "id": "VDE5Fe-O0iD8"
      },
      "source": [
        "The size of the dataset went from **15.8 million** rows to **~3 million rows**!<br>\r\n",
        "Out of these, I discard the reviews that are too short or too long.<br>\r\n",
        "The short reviews are discarded because they aren't as useful in training the models.<br>\r\n",
        "The long reviews are discarded because they will slow down the training significantly."
      ]
    },
    {
      "cell_type": "code",
      "metadata": {
        "id": "mH0NlDma9FuV"
      },
      "source": [
        "usable_data = data[(data.word_count > 10) & (data.word_count < 200)]"
      ],
      "execution_count": null,
      "outputs": []
    },
    {
      "cell_type": "markdown",
      "metadata": {
        "id": "nxFOpnQ71GWx"
      },
      "source": [
        "The dataset is still too large to train the model on.<br>\r\n",
        "Going forward, I work with a random sample of the data of size `sample_size`."
      ]
    },
    {
      "cell_type": "code",
      "metadata": {
        "id": "tXpaAhfT24Gv"
      },
      "source": [
        "sample_size = 10000"
      ],
      "execution_count": null,
      "outputs": []
    },
    {
      "cell_type": "code",
      "metadata": {
        "colab": {
          "base_uri": "https://localhost:8080/",
          "height": 419
        },
        "id": "hENBn1pqWN0K",
        "outputId": "3bb65c4f-1e16-44e8-a014-e2dcbdcd59b0"
      },
      "source": [
        "working_data = usable_data.sample(n=sample_size)\r\n",
        "working_data"
      ],
      "execution_count": null,
      "outputs": [
        {
          "output_type": "execute_result",
          "data": {
            "text/html": [
              "<div>\n",
              "<style scoped>\n",
              "    .dataframe tbody tr th:only-of-type {\n",
              "        vertical-align: middle;\n",
              "    }\n",
              "\n",
              "    .dataframe tbody tr th {\n",
              "        vertical-align: top;\n",
              "    }\n",
              "\n",
              "    .dataframe thead th {\n",
              "        text-align: right;\n",
              "    }\n",
              "</style>\n",
              "<table border=\"1\" class=\"dataframe\">\n",
              "  <thead>\n",
              "    <tr style=\"text-align: right;\">\n",
              "      <th></th>\n",
              "      <th>rating</th>\n",
              "      <th>comment</th>\n",
              "      <th>ID</th>\n",
              "      <th>word_count</th>\n",
              "      <th>rating_int</th>\n",
              "    </tr>\n",
              "  </thead>\n",
              "  <tbody>\n",
              "    <tr>\n",
              "      <th>5699294</th>\n",
              "      <td>8.0</td>\n",
              "      <td>Can be complicated to teach (people often don'...</td>\n",
              "      <td>9216</td>\n",
              "      <td>66</td>\n",
              "      <td>8</td>\n",
              "    </tr>\n",
              "    <tr>\n",
              "      <th>12680398</th>\n",
              "      <td>6.0</td>\n",
              "      <td>Race game where you playa card that may impact...</td>\n",
              "      <td>101</td>\n",
              "      <td>40</td>\n",
              "      <td>6</td>\n",
              "    </tr>\n",
              "    <tr>\n",
              "      <th>13060893</th>\n",
              "      <td>6.0</td>\n",
              "      <td>While the water management puzzle is interesti...</td>\n",
              "      <td>149119</td>\n",
              "      <td>60</td>\n",
              "      <td>6</td>\n",
              "    </tr>\n",
              "    <tr>\n",
              "      <th>12701336</th>\n",
              "      <td>9.0</td>\n",
              "      <td>Favorite Diplomacy-variant. My rating is a 9 o...</td>\n",
              "      <td>286</td>\n",
              "      <td>36</td>\n",
              "      <td>9</td>\n",
              "    </tr>\n",
              "    <tr>\n",
              "      <th>3519550</th>\n",
              "      <td>7.0</td>\n",
              "      <td>My first coop game and still my favorite. Perh...</td>\n",
              "      <td>30549</td>\n",
              "      <td>23</td>\n",
              "      <td>7</td>\n",
              "    </tr>\n",
              "    <tr>\n",
              "      <th>...</th>\n",
              "      <td>...</td>\n",
              "      <td>...</td>\n",
              "      <td>...</td>\n",
              "      <td>...</td>\n",
              "      <td>...</td>\n",
              "    </tr>\n",
              "    <tr>\n",
              "      <th>8035854</th>\n",
              "      <td>3.0</td>\n",
              "      <td>if you have to role-play for it to be a good g...</td>\n",
              "      <td>929</td>\n",
              "      <td>44</td>\n",
              "      <td>3</td>\n",
              "    </tr>\n",
              "    <tr>\n",
              "      <th>10350755</th>\n",
              "      <td>7.0</td>\n",
              "      <td>All of the stuff I read about this game indica...</td>\n",
              "      <td>6351</td>\n",
              "      <td>159</td>\n",
              "      <td>7</td>\n",
              "    </tr>\n",
              "    <tr>\n",
              "      <th>14050764</th>\n",
              "      <td>7.0</td>\n",
              "      <td>I have the Chaosium version.  One of the best ...</td>\n",
              "      <td>1720</td>\n",
              "      <td>27</td>\n",
              "      <td>7</td>\n",
              "    </tr>\n",
              "    <tr>\n",
              "      <th>11686860</th>\n",
              "      <td>7.0</td>\n",
              "      <td>This has a better theme, but I prefer [i][game...</td>\n",
              "      <td>73</td>\n",
              "      <td>21</td>\n",
              "      <td>7</td>\n",
              "    </tr>\n",
              "    <tr>\n",
              "      <th>4208564</th>\n",
              "      <td>8.0</td>\n",
              "      <td>I love this game. It's easy to play quick to b...</td>\n",
              "      <td>163967</td>\n",
              "      <td>47</td>\n",
              "      <td>8</td>\n",
              "    </tr>\n",
              "  </tbody>\n",
              "</table>\n",
              "<p>10000 rows × 5 columns</p>\n",
              "</div>"
            ],
            "text/plain": [
              "          rating  ... rating_int\n",
              "5699294      8.0  ...          8\n",
              "12680398     6.0  ...          6\n",
              "13060893     6.0  ...          6\n",
              "12701336     9.0  ...          9\n",
              "3519550      7.0  ...          7\n",
              "...          ...  ...        ...\n",
              "8035854      3.0  ...          3\n",
              "10350755     7.0  ...          7\n",
              "14050764     7.0  ...          7\n",
              "11686860     7.0  ...          7\n",
              "4208564      8.0  ...          8\n",
              "\n",
              "[10000 rows x 5 columns]"
            ]
          },
          "metadata": {
            "tags": []
          },
          "execution_count": 10
        }
      ]
    },
    {
      "cell_type": "markdown",
      "metadata": {
        "id": "okPndato2D-A"
      },
      "source": [
        "Most of the reviews in the random sample above follow the same rating distribution as the original data which leaves us with too few reviews with extreme ratings.<br>\r\n",
        "So I create a second sample of reviews which is \"balanced\" such that we have the same number of reviews for each prediction class (`rating_int`)."
      ]
    },
    {
      "cell_type": "code",
      "metadata": {
        "colab": {
          "base_uri": "https://localhost:8080/",
          "height": 450
        },
        "id": "CjVILlAI3Xv2",
        "outputId": "c8d87c5d-bb54-421a-ded3-d99f1937017d"
      },
      "source": [
        "grouped = usable_data[usable_data.rating_int != 0].groupby(['rating_int'])\r\n",
        "working_data_balanced = grouped.apply(lambda x: x.sample(n=sample_size//10))\r\n",
        "working_data_balanced"
      ],
      "execution_count": null,
      "outputs": [
        {
          "output_type": "execute_result",
          "data": {
            "text/html": [
              "<div>\n",
              "<style scoped>\n",
              "    .dataframe tbody tr th:only-of-type {\n",
              "        vertical-align: middle;\n",
              "    }\n",
              "\n",
              "    .dataframe tbody tr th {\n",
              "        vertical-align: top;\n",
              "    }\n",
              "\n",
              "    .dataframe thead th {\n",
              "        text-align: right;\n",
              "    }\n",
              "</style>\n",
              "<table border=\"1\" class=\"dataframe\">\n",
              "  <thead>\n",
              "    <tr style=\"text-align: right;\">\n",
              "      <th></th>\n",
              "      <th></th>\n",
              "      <th>rating</th>\n",
              "      <th>comment</th>\n",
              "      <th>ID</th>\n",
              "      <th>word_count</th>\n",
              "      <th>rating_int</th>\n",
              "    </tr>\n",
              "    <tr>\n",
              "      <th>rating_int</th>\n",
              "      <th></th>\n",
              "      <th></th>\n",
              "      <th></th>\n",
              "      <th></th>\n",
              "      <th></th>\n",
              "      <th></th>\n",
              "    </tr>\n",
              "  </thead>\n",
              "  <tbody>\n",
              "    <tr>\n",
              "      <th rowspan=\"5\" valign=\"top\">1</th>\n",
              "      <th>14770563</th>\n",
              "      <td>1.0</td>\n",
              "      <td>This game purposefully excluded all female cha...</td>\n",
              "      <td>141725</td>\n",
              "      <td>20</td>\n",
              "      <td>1</td>\n",
              "    </tr>\n",
              "    <tr>\n",
              "      <th>12423471</th>\n",
              "      <td>1.0</td>\n",
              "      <td>Pasted theme.  This is a recognition game, no ...</td>\n",
              "      <td>16398</td>\n",
              "      <td>27</td>\n",
              "      <td>1</td>\n",
              "    </tr>\n",
              "    <tr>\n",
              "      <th>11611053</th>\n",
              "      <td>1.0</td>\n",
              "      <td>Could you waste your time in a worse way? You ...</td>\n",
              "      <td>11634</td>\n",
              "      <td>28</td>\n",
              "      <td>1</td>\n",
              "    </tr>\n",
              "    <tr>\n",
              "      <th>11386505</th>\n",
              "      <td>1.0</td>\n",
              "      <td>No, not a game. No, it doesn't belong in the b...</td>\n",
              "      <td>7316</td>\n",
              "      <td>28</td>\n",
              "      <td>1</td>\n",
              "    </tr>\n",
              "    <tr>\n",
              "      <th>15443746</th>\n",
              "      <td>1.0</td>\n",
              "      <td>Boy, this game never worked.  And we were big ...</td>\n",
              "      <td>3547</td>\n",
              "      <td>34</td>\n",
              "      <td>1</td>\n",
              "    </tr>\n",
              "    <tr>\n",
              "      <th>...</th>\n",
              "      <th>...</th>\n",
              "      <td>...</td>\n",
              "      <td>...</td>\n",
              "      <td>...</td>\n",
              "      <td>...</td>\n",
              "      <td>...</td>\n",
              "    </tr>\n",
              "    <tr>\n",
              "      <th rowspan=\"5\" valign=\"top\">10</th>\n",
              "      <th>268994</th>\n",
              "      <td>10.0</td>\n",
              "      <td>One of the most elegant strategy boardgames!  ...</td>\n",
              "      <td>3076</td>\n",
              "      <td>38</td>\n",
              "      <td>10</td>\n",
              "    </tr>\n",
              "    <tr>\n",
              "      <th>7412679</th>\n",
              "      <td>10.0</td>\n",
              "      <td>Duel of Ages lite.  The cool factor is so high...</td>\n",
              "      <td>11170</td>\n",
              "      <td>23</td>\n",
              "      <td>10</td>\n",
              "    </tr>\n",
              "    <tr>\n",
              "      <th>8136857</th>\n",
              "      <td>10.0</td>\n",
              "      <td>Thats one of my favorite games of all time! Th...</td>\n",
              "      <td>47185</td>\n",
              "      <td>49</td>\n",
              "      <td>10</td>\n",
              "    </tr>\n",
              "    <tr>\n",
              "      <th>5356382</th>\n",
              "      <td>10.0</td>\n",
              "      <td>The roll and move mechanic makes the game much...</td>\n",
              "      <td>27627</td>\n",
              "      <td>44</td>\n",
              "      <td>10</td>\n",
              "    </tr>\n",
              "    <tr>\n",
              "      <th>3668141</th>\n",
              "      <td>10.0</td>\n",
              "      <td>I can't rave enough about this game.  I've pla...</td>\n",
              "      <td>12493</td>\n",
              "      <td>18</td>\n",
              "      <td>10</td>\n",
              "    </tr>\n",
              "  </tbody>\n",
              "</table>\n",
              "<p>10000 rows × 5 columns</p>\n",
              "</div>"
            ],
            "text/plain": [
              "                     rating  ... rating_int\n",
              "rating_int                   ...           \n",
              "1          14770563     1.0  ...          1\n",
              "           12423471     1.0  ...          1\n",
              "           11611053     1.0  ...          1\n",
              "           11386505     1.0  ...          1\n",
              "           15443746     1.0  ...          1\n",
              "...                     ...  ...        ...\n",
              "10         268994      10.0  ...         10\n",
              "           7412679     10.0  ...         10\n",
              "           8136857     10.0  ...         10\n",
              "           5356382     10.0  ...         10\n",
              "           3668141     10.0  ...         10\n",
              "\n",
              "[10000 rows x 5 columns]"
            ]
          },
          "metadata": {
            "tags": []
          },
          "execution_count": 11
        }
      ]
    },
    {
      "cell_type": "markdown",
      "metadata": {
        "id": "PWYEqUtJH-OL"
      },
      "source": [
        "# Cleaning Data"
      ]
    },
    {
      "cell_type": "markdown",
      "metadata": {
        "id": "H6jKoiBU2wrK"
      },
      "source": [
        "In addition to the stopwords from `nltk`, I added a few words of my own since I know these reviews are for games and the following words will occur frequently even though they help in conveying the sentiment of the review."
      ]
    },
    {
      "cell_type": "code",
      "metadata": {
        "id": "ndC81wMeabDL"
      },
      "source": [
        "stopwords_set = set(stopwords.words('english'))\r\n",
        "stopwords_set = stopwords_set.union(('game','play','played','players','player','people','really','board','games','one','plays','cards','would'))"
      ],
      "execution_count": null,
      "outputs": []
    },
    {
      "cell_type": "markdown",
      "metadata": {
        "id": "8Cdcl5At3FTU"
      },
      "source": [
        "I define a function to clean the reviews in a `Dataframe`.<br>\r\n",
        "All punctuations are removed from the review text.<br>\r\n",
        "All stopwords are removed as well."
      ]
    },
    {
      "cell_type": "code",
      "metadata": {
        "id": "Ou-zj-3TD1iS"
      },
      "source": [
        "def clean_data(df):\r\n",
        "  df['cleaned'] = df['comment'].str.lower().apply(lambda x:''.join([i for i in x if i not in string.punctuation]))\r\n",
        "  df['cleaned'] = df['cleaned'].apply(lambda x: ' '.join([word for word in x.split() if word not in stopwords_set]))\r\n",
        "  df['rating_int'] = df['rating'].astype('int')\r\n",
        "  return df"
      ],
      "execution_count": null,
      "outputs": []
    },
    {
      "cell_type": "markdown",
      "metadata": {
        "id": "xjD0j-r54f3N"
      },
      "source": [
        "Cleaning the 2 data samples from earlier."
      ]
    },
    {
      "cell_type": "code",
      "metadata": {
        "id": "ofKefeih4NB9"
      },
      "source": [
        "clean_data(working_data)\r\n",
        "clean_data(working_data_balanced)"
      ],
      "execution_count": null,
      "outputs": []
    },
    {
      "cell_type": "markdown",
      "metadata": {
        "id": "Q8gRJqDo3ZSt"
      },
      "source": [
        "`Data` class is defined to split and store the `Dataframe` into `train` and `test` datasets."
      ]
    },
    {
      "cell_type": "code",
      "metadata": {
        "id": "GgXIkpJ4V9jp"
      },
      "source": [
        "class Data:\r\n",
        "  def __init__(self, df, test_size=0.20, feat_cols = 'cleaned', result_col='rating_int'):\r\n",
        "    df = df.copy()\r\n",
        "    clean_data(df)\r\n",
        "    self.X_train, self.X_test, self.y_train, self.y_test = train_test_split(df[feat_cols], df[result_col], test_size=0.20)\r\n",
        "  \r\n",
        "  @property\r\n",
        "  def train(self):\r\n",
        "    return self.X_train, self.y_train\r\n",
        "  \r\n",
        "  @property\r\n",
        "  def test(self):\r\n",
        "    return self.X_test, self.y_test"
      ],
      "execution_count": null,
      "outputs": []
    },
    {
      "cell_type": "markdown",
      "metadata": {
        "id": "tFOS46FH31VA"
      },
      "source": [
        "Creating `Data` objects from the 2 cleaned random data samples created earlier."
      ]
    },
    {
      "cell_type": "code",
      "metadata": {
        "id": "nq502wyZbH4W"
      },
      "source": [
        "data_unbalanced = Data(working_data, 0.20)\r\n",
        "data_balanced = Data(working_data_balanced, 0.20)"
      ],
      "execution_count": null,
      "outputs": []
    },
    {
      "cell_type": "markdown",
      "metadata": {
        "id": "OZkt3-du4pvR"
      },
      "source": [
        "`eval_model` computes the accuracy of a model on the given data and plots the confusion matrix for the predictions againt the actual ratings."
      ]
    },
    {
      "cell_type": "code",
      "metadata": {
        "id": "P0nor2LTujlu"
      },
      "source": [
        "def eval_model(name, model, X, y):\r\n",
        "  _y_pred = model.predict(X)\r\n",
        "  acc = accuracy_score(y, _y_pred)\r\n",
        "  conf_mat = confusion_matrix(y, _y_pred, labels=list(range(1, 11)))\r\n",
        "\r\n",
        "  sns.heatmap(conf_mat.T, square=False, annot=True, cbar=False, fmt='d')\r\n",
        "  plt.xlabel('actual')\r\n",
        "  plt.ylabel('predicted');\r\n",
        "  plt.show()\r\n",
        "\r\n",
        "  print(f'Accuracy of {name} = {acc}')"
      ],
      "execution_count": null,
      "outputs": []
    },
    {
      "cell_type": "markdown",
      "metadata": {
        "id": "-zj8VNqCIEAn"
      },
      "source": [
        "# SVM"
      ]
    },
    {
      "cell_type": "markdown",
      "metadata": {
        "id": "c1yMxd1J47DL"
      },
      "source": [
        "This is the first SVM model that I use.<br>\r\n",
        "It's defined as a pipeline since the text needs to be converted into numerical features before being fed into a SVM.<br>\r\n",
        "The conversion of text to numerical features is done using $TF-IDF$.\r\n",
        "The first stage of the pipleline is a `TfidfVectorizer` which also creates [bigrams](https://en.wikipedia.org/wiki/Bigram).<br>\r\n",
        "The second step is a `SVC` classifier using `rbf` kernel instead of `linear` since `rbf` trades faster training for higher accuracy."
      ]
    },
    {
      "cell_type": "code",
      "metadata": {
        "id": "2CVbP40pc5AF"
      },
      "source": [
        "model_svm = Pipeline([\r\n",
        "    ('tfidf_vectorizer', TfidfVectorizer(lowercase = True, stop_words = stopwords_set, ngram_range=(1, 2))),\r\n",
        "    ('classifier', svm.SVC(kernel=\"rbf\", probability=True, cache_size=2048))\r\n",
        "    ])"
      ],
      "execution_count": null,
      "outputs": []
    },
    {
      "cell_type": "markdown",
      "metadata": {
        "id": "WXagl5V17fBn"
      },
      "source": [
        "Training the SVM to unabalanced data sample."
      ]
    },
    {
      "cell_type": "code",
      "metadata": {
        "colab": {
          "base_uri": "https://localhost:8080/"
        },
        "id": "DVviEGmKc9LD",
        "outputId": "c16eed54-0232-4e55-9f73-2b7b64e76772"
      },
      "source": [
        "model_svm.fit(*data_unbalanced.train)"
      ],
      "execution_count": null,
      "outputs": [
        {
          "output_type": "execute_result",
          "data": {
            "text/plain": [
              "Pipeline(steps=[('tfidf_transformer',\n",
              "                 TfidfVectorizer(ngram_range=(1, 2),\n",
              "                                 stop_words={'a', 'about', 'above', 'after',\n",
              "                                             'again', 'against', 'ain', 'all',\n",
              "                                             'am', 'an', 'and', 'any', 'are',\n",
              "                                             'aren', \"aren't\", 'as', 'at', 'be',\n",
              "                                             'because', 'been', 'before',\n",
              "                                             'being', 'below', 'between',\n",
              "                                             'board', 'both', 'but', 'by',\n",
              "                                             'can', 'cards', ...})),\n",
              "                ('classifier', SVC(cache_size=2048, probability=True))])"
            ]
          },
          "metadata": {
            "tags": []
          },
          "execution_count": 18
        }
      ]
    },
    {
      "cell_type": "code",
      "metadata": {
        "colab": {
          "base_uri": "https://localhost:8080/",
          "height": 302
        },
        "id": "wXQ1DJ1se02n",
        "outputId": "20082fb7-ebc1-4943-eb42-1bbc5283388c"
      },
      "source": [
        "eval_model('SVM', model_svm, *data_unbalanced.train)"
      ],
      "execution_count": null,
      "outputs": [
        {
          "output_type": "display_data",
          "data": {
            "image/png": "[encoded data removed]",
            "text/plain": [
              "<Figure size 432x288 with 1 Axes>"
            ]
          },
          "metadata": {
            "tags": []
          }
        },
        {
          "output_type": "stream",
          "text": [
            "Accuracy of SVM = 0.955875\n"
          ],
          "name": "stdout"
        }
      ]
    },
    {
      "cell_type": "markdown",
      "metadata": {
        "id": "xgrhXxo37qmT"
      },
      "source": [
        "That's a really good train accuracy and it's worth noting that <br>\r\n",
        "most of the wrongly predicted reviews are for `rating == 6`."
      ]
    },
    {
      "cell_type": "code",
      "metadata": {
        "colab": {
          "base_uri": "https://localhost:8080/",
          "height": 302
        },
        "id": "GWfMLIxyfPwW",
        "outputId": "48345ca7-efd9-453e-99b6-c32b5b127eaf"
      },
      "source": [
        "eval_model('SVM', model_svm, *data_unbalanced.test)"
      ],
      "execution_count": null,
      "outputs": [
        {
          "output_type": "display_data",
          "data": {
            "image/png": "[encoded data removed]",
            "text/plain": [
              "<Figure size 432x288 with 1 Axes>"
            ]
          },
          "metadata": {
            "tags": []
          }
        },
        {
          "output_type": "stream",
          "text": [
            "Accuracy of SVM = 0.2795\n"
          ],
          "name": "stdout"
        }
      ]
    },
    {
      "cell_type": "markdown",
      "metadata": {
        "id": "sTHJBli579lk"
      },
      "source": [
        "The test accuracy isn't as good, and this was expected. <br>\r\n",
        "But what's significant here is that the model has only predicted ratings between $4$ and $7$!<br>\r\n",
        "Looks like the model has been overfit around the mean of the ratings."
      ]
    },
    {
      "cell_type": "markdown",
      "metadata": {
        "id": "6ZFptCO8IIRq"
      },
      "source": [
        "# SVM Balanced Data"
      ]
    },
    {
      "cell_type": "markdown",
      "metadata": {
        "id": "OatvQpGC7p2V"
      },
      "source": [
        "This is another SVM defined in the exact same manner as above but it will be trained on a different data sample."
      ]
    },
    {
      "cell_type": "code",
      "metadata": {
        "id": "Hr8Z6ZjFgKD6"
      },
      "source": [
        "model_svm2 = Pipeline([\r\n",
        "    ('tfidf_transformer', TfidfVectorizer(lowercase = True, stop_words = stopwords_set, ngram_range=(1, 2))),\r\n",
        "    ('classifier', svm.SVC(kernel=\"rbf\", probability=True, cache_size=2048))\r\n",
        "    ])"
      ],
      "execution_count": null,
      "outputs": []
    },
    {
      "cell_type": "markdown",
      "metadata": {
        "id": "vBvGSLWT8iLc"
      },
      "source": [
        "This SVM is not trained on balanced data sample. <br>\r\n",
        "It should be predicting ratings more uniformly now."
      ]
    },
    {
      "cell_type": "code",
      "metadata": {
        "colab": {
          "base_uri": "https://localhost:8080/"
        },
        "id": "awGkk88jgfqb",
        "outputId": "f4881f04-c745-47eb-f383-04cac3da61bb"
      },
      "source": [
        "model_svm2.fit(*data_balanced.train)"
      ],
      "execution_count": null,
      "outputs": [
        {
          "output_type": "execute_result",
          "data": {
            "text/plain": [
              "Pipeline(steps=[('tfidf_transformer',\n",
              "                 TfidfVectorizer(ngram_range=(1, 2),\n",
              "                                 stop_words={'a', 'about', 'above', 'after',\n",
              "                                             'again', 'against', 'ain', 'all',\n",
              "                                             'am', 'an', 'and', 'any', 'are',\n",
              "                                             'aren', \"aren't\", 'as', 'at', 'be',\n",
              "                                             'because', 'been', 'before',\n",
              "                                             'being', 'below', 'between',\n",
              "                                             'board', 'both', 'but', 'by',\n",
              "                                             'can', 'cards', ...})),\n",
              "                ('classifier', SVC(cache_size=2048, probability=True))])"
            ]
          },
          "metadata": {
            "tags": []
          },
          "execution_count": 33
        }
      ]
    },
    {
      "cell_type": "code",
      "metadata": {
        "id": "NVFK4VhAglSq",
        "colab": {
          "base_uri": "https://localhost:8080/",
          "height": 302
        },
        "outputId": "353d924f-b4ee-4af7-dd04-a7d23fb32872"
      },
      "source": [
        "eval_model('SVM2', model_svm2, *data_balanced.train)"
      ],
      "execution_count": null,
      "outputs": [
        {
          "output_type": "display_data",
          "data": {
            "image/png": "[encoded data removed]",
            "text/plain": [
              "<Figure size 432x288 with 1 Axes>"
            ]
          },
          "metadata": {
            "tags": []
          }
        },
        {
          "output_type": "stream",
          "text": [
            "Accuracy of SVM2 = 0.99975\n"
          ],
          "name": "stdout"
        }
      ]
    },
    {
      "cell_type": "markdown",
      "metadata": {
        "id": "lqKdAyBn83c9"
      },
      "source": [
        "A **very** high train accuracy!"
      ]
    },
    {
      "cell_type": "code",
      "metadata": {
        "colab": {
          "base_uri": "https://localhost:8080/",
          "height": 302
        },
        "id": "DYCOg5Ugm68X",
        "outputId": "f2cfec3d-4609-4020-e066-8b7f29c35105"
      },
      "source": [
        "eval_model('SVM2', model_svm2, *data_balanced.test)"
      ],
      "execution_count": null,
      "outputs": [
        {
          "output_type": "display_data",
          "data": {
            "image/png": "[encoded data removed]",
            "text/plain": [
              "<Figure size 432x288 with 1 Axes>"
            ]
          },
          "metadata": {
            "tags": []
          }
        },
        {
          "output_type": "stream",
          "text": [
            "Accuracy of SVM2 = 0.232\n"
          ],
          "name": "stdout"
        }
      ]
    },
    {
      "cell_type": "markdown",
      "metadata": {
        "id": "85D41e0f89bN"
      },
      "source": [
        "The test accuracy is worse now **BUT** this model is predicting ratings all across the matrix now.<br>\r\n",
        "Also, most of the wrongly predicted ratings aren't that far off from the actual rating.<br>\r\n",
        "An actual rating of $2$ being wrongly predicted as $3$ is not as bad as being predicted as $7$."
      ]
    },
    {
      "cell_type": "markdown",
      "metadata": {
        "id": "m0inIbZT9aKo"
      },
      "source": [
        "# Decision Tree\r\n",
        "Now that we have 2 SVMs trained and ready to use, we need a third classifier to get the prediction results of these 2 SVMs and predict a final rating.<br>\r\n",
        "A third random data sample is created for the final classifier and we add the predictions of the above 2 SVMs as features to this new data sample."
      ]
    },
    {
      "cell_type": "code",
      "metadata": {
        "colab": {
          "base_uri": "https://localhost:8080/",
          "height": 419
        },
        "id": "m66NuvsmmO6y",
        "outputId": "68610ce0-7960-47ad-e63e-69c691b1d59d"
      },
      "source": [
        "all_working_data = usable_data.sample(n=sample_size)\r\n",
        "clean_data(all_working_data)\r\n",
        "all_working_data['unbalanced'] = model_svm.predict(all_working_data['cleaned'])\r\n",
        "all_working_data['balanced'] = model_svm2.predict(all_working_data['cleaned'])\r\n",
        "all_working_data['average'] = np.average(all_working_data[['balanced', 'unbalanced']])\r\n",
        "all_working_data"
      ],
      "execution_count": null,
      "outputs": [
        {
          "output_type": "execute_result",
          "data": {
            "text/html": [
              "<div>\n",
              "<style scoped>\n",
              "    .dataframe tbody tr th:only-of-type {\n",
              "        vertical-align: middle;\n",
              "    }\n",
              "\n",
              "    .dataframe tbody tr th {\n",
              "        vertical-align: top;\n",
              "    }\n",
              "\n",
              "    .dataframe thead th {\n",
              "        text-align: right;\n",
              "    }\n",
              "</style>\n",
              "<table border=\"1\" class=\"dataframe\">\n",
              "  <thead>\n",
              "    <tr style=\"text-align: right;\">\n",
              "      <th></th>\n",
              "      <th>rating</th>\n",
              "      <th>comment</th>\n",
              "      <th>ID</th>\n",
              "      <th>word_count</th>\n",
              "      <th>rating_int</th>\n",
              "      <th>cleaned</th>\n",
              "      <th>unbalanced</th>\n",
              "      <th>balanced</th>\n",
              "      <th>average</th>\n",
              "    </tr>\n",
              "  </thead>\n",
              "  <tbody>\n",
              "    <tr>\n",
              "      <th>1130885</th>\n",
              "      <td>8.0</td>\n",
              "      <td>Tight and interactive game. An interesting mec...</td>\n",
              "      <td>148949</td>\n",
              "      <td>26</td>\n",
              "      <td>8</td>\n",
              "      <td>tight interactive interesting mechanic gies op...</td>\n",
              "      <td>7</td>\n",
              "      <td>8</td>\n",
              "      <td>6.68125</td>\n",
              "    </tr>\n",
              "    <tr>\n",
              "      <th>14502393</th>\n",
              "      <td>8.0</td>\n",
              "      <td>A pretty solid set collection game with differ...</td>\n",
              "      <td>85800</td>\n",
              "      <td>34</td>\n",
              "      <td>8</td>\n",
              "      <td>pretty solid set collection different powers p...</td>\n",
              "      <td>7</td>\n",
              "      <td>7</td>\n",
              "      <td>6.68125</td>\n",
              "    </tr>\n",
              "    <tr>\n",
              "      <th>7511033</th>\n",
              "      <td>8.0</td>\n",
              "      <td>(07/14/2017) - Grabbed as part of a large Mini...</td>\n",
              "      <td>204027</td>\n",
              "      <td>63</td>\n",
              "      <td>8</td>\n",
              "      <td>07142017 grabbed part large miniature market c...</td>\n",
              "      <td>7</td>\n",
              "      <td>6</td>\n",
              "      <td>6.68125</td>\n",
              "    </tr>\n",
              "    <tr>\n",
              "      <th>11362666</th>\n",
              "      <td>6.3</td>\n",
              "      <td>Bρισκομαστε στην Αιγυπτο και θα πλιατσικολογησ...</td>\n",
              "      <td>98315</td>\n",
              "      <td>112</td>\n",
              "      <td>6</td>\n",
              "      <td>bρισκομαστε στην αιγυπτο και θα πλιατσικολογησ...</td>\n",
              "      <td>7</td>\n",
              "      <td>10</td>\n",
              "      <td>6.68125</td>\n",
              "    </tr>\n",
              "    <tr>\n",
              "      <th>412346</th>\n",
              "      <td>7.0</td>\n",
              "      <td>Classic game. First \"real\" board game I was ev...</td>\n",
              "      <td>181</td>\n",
              "      <td>11</td>\n",
              "      <td>7</td>\n",
              "      <td>classic first real ever exposed</td>\n",
              "      <td>7</td>\n",
              "      <td>1</td>\n",
              "      <td>6.68125</td>\n",
              "    </tr>\n",
              "    <tr>\n",
              "      <th>...</th>\n",
              "      <td>...</td>\n",
              "      <td>...</td>\n",
              "      <td>...</td>\n",
              "      <td>...</td>\n",
              "      <td>...</td>\n",
              "      <td>...</td>\n",
              "      <td>...</td>\n",
              "      <td>...</td>\n",
              "      <td>...</td>\n",
              "    </tr>\n",
              "    <tr>\n",
              "      <th>1947623</th>\n",
              "      <td>8.0</td>\n",
              "      <td>I feel like this is a solid introduction to th...</td>\n",
              "      <td>129622</td>\n",
              "      <td>31</td>\n",
              "      <td>8</td>\n",
              "      <td>feel like solid introduction micro dont feel l...</td>\n",
              "      <td>7</td>\n",
              "      <td>6</td>\n",
              "      <td>6.68125</td>\n",
              "    </tr>\n",
              "    <tr>\n",
              "      <th>13407925</th>\n",
              "      <td>8.0</td>\n",
              "      <td>Auténtica locura cometida, me lo he pillado en...</td>\n",
              "      <td>249746</td>\n",
              "      <td>25</td>\n",
              "      <td>8</td>\n",
              "      <td>auténtica locura cometida lo pillado en ks lle...</td>\n",
              "      <td>7</td>\n",
              "      <td>9</td>\n",
              "      <td>6.68125</td>\n",
              "    </tr>\n",
              "    <tr>\n",
              "      <th>13627597</th>\n",
              "      <td>5.0</td>\n",
              "      <td>Just kind of meh.  Too bad I really wanted to ...</td>\n",
              "      <td>160784</td>\n",
              "      <td>13</td>\n",
              "      <td>5</td>\n",
              "      <td>kind meh bad wanted like</td>\n",
              "      <td>6</td>\n",
              "      <td>4</td>\n",
              "      <td>6.68125</td>\n",
              "    </tr>\n",
              "    <tr>\n",
              "      <th>12840246</th>\n",
              "      <td>8.0</td>\n",
              "      <td>A gripping simulation of the Normandy landings...</td>\n",
              "      <td>730</td>\n",
              "      <td>155</td>\n",
              "      <td>8</td>\n",
              "      <td>gripping simulation normandy landings immediat...</td>\n",
              "      <td>7</td>\n",
              "      <td>4</td>\n",
              "      <td>6.68125</td>\n",
              "    </tr>\n",
              "    <tr>\n",
              "      <th>341283</th>\n",
              "      <td>9.0</td>\n",
              "      <td>Cute game, a bit slow, but enjoyable. Played i...</td>\n",
              "      <td>50</td>\n",
              "      <td>104</td>\n",
              "      <td>9</td>\n",
              "      <td>cute bit slow enjoyable probably develop bette...</td>\n",
              "      <td>7</td>\n",
              "      <td>8</td>\n",
              "      <td>6.68125</td>\n",
              "    </tr>\n",
              "  </tbody>\n",
              "</table>\n",
              "<p>10000 rows × 9 columns</p>\n",
              "</div>"
            ],
            "text/plain": [
              "          rating  ...  average\n",
              "1130885      8.0  ...  6.68125\n",
              "14502393     8.0  ...  6.68125\n",
              "7511033      8.0  ...  6.68125\n",
              "11362666     6.3  ...  6.68125\n",
              "412346       7.0  ...  6.68125\n",
              "...          ...  ...      ...\n",
              "1947623      8.0  ...  6.68125\n",
              "13407925     8.0  ...  6.68125\n",
              "13627597     5.0  ...  6.68125\n",
              "12840246     8.0  ...  6.68125\n",
              "341283       9.0  ...  6.68125\n",
              "\n",
              "[10000 rows x 9 columns]"
            ]
          },
          "metadata": {
            "tags": []
          },
          "execution_count": 36
        }
      ]
    },
    {
      "cell_type": "code",
      "metadata": {
        "id": "b4qsV6otFxIh"
      },
      "source": [
        "all_working_data['average'] = (all_working_data['balanced'] + all_working_data['unbalanced']) / 2"
      ],
      "execution_count": null,
      "outputs": []
    },
    {
      "cell_type": "code",
      "metadata": {
        "id": "Ws4JddY3nRFt"
      },
      "source": [
        "data_final = Data(all_working_data, 0.2, feat_cols=['balanced', 'unbalanced'])"
      ],
      "execution_count": null,
      "outputs": []
    },
    {
      "cell_type": "markdown",
      "metadata": {
        "id": "y79fUX1W-AmO"
      },
      "source": [
        "I used a decision tree as the final classifier to combine the results of both SVMs.<br>\r\n",
        "A Decision Tree is a good choice here since we're predicting a single review out of 2 reviews as input.<br>"
      ]
    },
    {
      "cell_type": "code",
      "metadata": {
        "colab": {
          "base_uri": "https://localhost:8080/"
        },
        "id": "8Q6RER1eqjaX",
        "outputId": "b53b0653-fc36-44bd-ecfe-53db1723fa4c"
      },
      "source": [
        "model_final = DecisionTreeClassifier()\r\n",
        "model_final.fit(*data_final.train)"
      ],
      "execution_count": null,
      "outputs": [
        {
          "output_type": "execute_result",
          "data": {
            "text/plain": [
              "DecisionTreeClassifier()"
            ]
          },
          "metadata": {
            "tags": []
          },
          "execution_count": 39
        }
      ]
    },
    {
      "cell_type": "code",
      "metadata": {
        "colab": {
          "base_uri": "https://localhost:8080/",
          "height": 302
        },
        "id": "lU1go-0fv6Ok",
        "outputId": "6ecaaee5-a071-4ef3-c5f3-f8ff777e940d"
      },
      "source": [
        "eval_model('final', model_final, *data_final.train)"
      ],
      "execution_count": null,
      "outputs": [
        {
          "output_type": "display_data",
          "data": {
            "image/png": "[encoded data removed]",
            "text/plain": [
              "<Figure size 432x288 with 1 Axes>"
            ]
          },
          "metadata": {
            "tags": []
          }
        },
        {
          "output_type": "stream",
          "text": [
            "Accuracy of final = 0.286375\n"
          ],
          "name": "stdout"
        }
      ]
    },
    {
      "cell_type": "markdown",
      "metadata": {
        "id": "ioSvhE6e-WV8"
      },
      "source": [
        "So the accuracy is about $28.6\\%$ now and the predictions are spread out across the confusion matrix instead of being confined to a tight region around the mean. <br>\r\n",
        "**Note:** The previous 2 SVMs were not retrained to be used in this decision tree."
      ]
    },
    {
      "cell_type": "code",
      "metadata": {
        "colab": {
          "base_uri": "https://localhost:8080/",
          "height": 302
        },
        "id": "wAnS2iWNwFWS",
        "outputId": "994a5363-90bd-4726-d07d-ac0b2c061441"
      },
      "source": [
        "eval_model('final', model_final, *data_final.test)"
      ],
      "execution_count": null,
      "outputs": [
        {
          "output_type": "display_data",
          "data": {
            "image/png": "[encoded data removed]",
            "text/plain": [
              "<Figure size 432x288 with 1 Axes>"
            ]
          },
          "metadata": {
            "tags": []
          }
        },
        {
          "output_type": "stream",
          "text": [
            "Accuracy of final = 0.261\n"
          ],
          "name": "stdout"
        }
      ]
    },
    {
      "cell_type": "markdown",
      "metadata": {
        "id": "ByTKjbby_e4G"
      },
      "source": [
        "A final accuracy of $26.1\\%$. <br>\r\n",
        "The confusion matrix looks concentrated around a rating of $6$ because that's the mean of ratings and the random sample that we chose had more reviews around this rating. <br>\r\n",
        "The final model still attempted to predict ratings on the extremes but not so accurately."
      ]
    },
    {
      "cell_type": "markdown",
      "metadata": {
        "id": "Aao-VYba_VUd"
      },
      "source": [
        "The 3 models that are required to make a prediction are saved to be used outside of this notebook."
      ]
    },
    {
      "cell_type": "code",
      "metadata": {
        "colab": {
          "base_uri": "https://localhost:8080/"
        },
        "id": "TUyI-O2UJVYq",
        "outputId": "02ada24b-5d2a-45e9-f993-6695cc5ed32a"
      },
      "source": [
        "import joblib\r\n",
        "\r\n",
        "joblib.dump(model_svm, 'svm.pkl')\r\n",
        "joblib.dump(model_svm2, 'svm_balanced.pkl')\r\n",
        "joblib.dump(model_final, 'decision_tree.pkl')"
      ],
      "execution_count": null,
      "outputs": [
        {
          "output_type": "execute_result",
          "data": {
            "text/plain": [
              "['decision_tree.pkl']"
            ]
          },
          "metadata": {
            "tags": []
          },
          "execution_count": 42
        }
      ]
    },
    {
      "cell_type": "markdown",
      "metadata": {
        "id": "V14cbWMr__CS"
      },
      "source": [
        "# Summary\r\n",
        "\r\n",
        "The final model is a combination of 2 SVMs and a decision tree.\r\n",
        "\r\n",
        "![](https://drive.google.com/uc?export=view&id=1Aok3WqMVgYStNk0LYQHg8eV3HRzoDZgT)\r\n",
        "\r\n",
        "<br>\r\n",
        "\r\n",
        "However, the accuracy scores might be a bit misleading as they compute accuracy as pass/fail instead of measuring a degree of how wrong the prediction is from the actual rating.<br>\r\n",
        "In most cases, the difference between the actual rating and the predicted one is $2$ or less.<br>\r\n",
        "This was the motive behind combining 2 SVMs into a single model.<br>\r\n",
        "The first SVM failed to predict ratings outside of the range $[4,7]$.<br>\r\n",
        "The second model predicted ratings uniformly but had a low accuracy and since we know that most of the actual ratings have a mean of around $6$, it would be beneficial to combine the results of both."
      ]
    },
    {
      "cell_type": "markdown",
      "metadata": {
        "id": "CaokDgpGAjkY"
      },
      "source": [
        "# Challenges\r\n",
        "\r\n",
        "The most significant challenge in this exercise was to clean and transform the **massive** input data. <br>\r\n",
        "This is because the reviews are plain text and many of them aren't even in English! <br>\r\n",
        "I handled this by taking random samples of the reviews and training the models on them. The sample size did have an effect on the final accuracy as I tried with several sample sizes.<br>\r\n",
        "A sample size of $10000$ seemed like a good trade off between train time and accuracy in the end.<br>\r\n",
        "<br>\r\n",
        "The other siginificant which isn't resolved yet is to change the accuracy and loss functions to penalize predictions that are far from the actual rating more.<br>\r\n",
        "Unfortunately, sklearn `SVC` does not allow for custom loss functions.<br>\r\n",
        "Possible solutions for this are to try some other classifiers in sklearn or use a different library altogether like PyTorch or Tensorflow."
      ]
    },
    {
      "cell_type": "markdown",
      "metadata": {
        "id": "F2l55h_qAE2k"
      },
      "source": [
        "# References\r\n",
        "\r\n",
        "\r\n",
        "\r\n",
        "1.   https://www.kaggle.com/jvanelteren/exploring-the-13m-reviews-bgg-dataset\r\n",
        "2.   https://stackoverflow.com/questions/34143829/sklearn-how-to-save-a-model-created-from-a-pipeline-and-gridsearchcv-using-jobli\r\n",
        "3.   https://towardsdatascience.com/multi-class-text-classification-model-comparison-and-selection-5eb066197568\r\n",
        "\r\n"
      ]
    }
  ]
}